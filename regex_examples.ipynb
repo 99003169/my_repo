{
 "cells": [
  {
   "cell_type": "code",
   "execution_count": 1,
   "metadata": {},
   "outputs": [
    {
     "name": "stdout",
     "output_type": "stream",
     "text": [
      "['25', '1000', '100', '10', '5', '10']\n"
     ]
    }
   ],
   "source": [
    "import re\n",
    "\n",
    "examplestring = ''' this is my example for regular expression, \n",
    "Ram has 25 Best friends, L&T has 1000 employees, LTTS has 100 employees\n",
    "At party 10 candidates take coffee, 5 take tea, 10 take juice'''\n",
    "\n",
    "num=re.findall(r'\\d{1,5}',examplestring)\n",
    "print(num)"
   ]
  },
  {
   "cell_type": "code",
   "execution_count": 3,
   "metadata": {},
   "outputs": [
    {
     "name": "stdout",
     "output_type": "stream",
     "text": [
      "['Ra', 'Be', 'At']\n"
     ]
    }
   ],
   "source": [
    "import re\n",
    "\n",
    "examplestring = ''' this is my example for regular expression, \n",
    "Ram has 25 Best friends, L&T has 1000 employees, LTTS has 100 employees\n",
    "At party 10 candidates take coffee, 5 take tea, 10 take juice'''\n",
    "\n",
    "charcters = re.findall (r'[A-Z][a-z]',examplestring)\n",
    "print (charcters)"
   ]
  },
  {
   "cell_type": "code",
   "execution_count": 6,
   "metadata": {},
   "outputs": [
    {
     "name": "stdout",
     "output_type": "stream",
     "text": [
      "None\n",
      "<re.Match object; span=(56, 60), match='Best'>\n"
     ]
    }
   ],
   "source": [
    "import re\n",
    "\n",
    "examplestring = ''' this is my example for regular expression, \n",
    "Ram has 25 Best friends, L&T has 1000 employees, LTTS has 100 employees\n",
    "At party 10 candidates take coffee, 5 take tea, 10 take juice'''\n",
    "\n",
    "matchresult = re.match('best',examplestring)\n",
    "print(matchresult)\n",
    "\n",
    "searchresult = re.search('best',examplestring, re.I)\n",
    "print(searchresult)"
   ]
  },
  {
   "cell_type": "code",
   "execution_count": 56,
   "metadata": {},
   "outputs": [
    {
     "name": "stdout",
     "output_type": "stream",
     "text": [
      "<re.Match object; span=(0, 5), match='Hello'>\n",
      "<re.Match object; span=(0, 1), match='1'>\n",
      "<re.Match object; span=(0, 3), match='1He'>\n",
      "None\n",
      "<re.Match object; span=(0, 4), match='Hllo'>\n",
      "None\n",
      "<re.Match object; span=(0, 9), match='Heeeeello'>\n",
      "<re.Match object; span=(0, 8), match='Heeeello'>\n",
      "<re.Match object; span=(0, 1), match='e'>\n",
      "<re.Match object; span=(0, 3), match='aei'>\n",
      "<re.Match object; span=(0, 0), match=''>\n",
      "<re.Match object; span=(0, 2), match='ae'>\n",
      "<re.Match object; span=(0, 4), match='aeiz'>\n",
      "<re.Match object; span=(0, 5), match='aeizZ'>\n",
      "<re.Match object; span=(0, 5), match='aeizZ'>\n",
      "<re.Match object; span=(0, 1), match='a'>\n",
      "None\n",
      "<re.Match object; span=(0, 2), match='22'>\n",
      "None\n",
      "<re.Match object; span=(5, 11), match='123ABC'>\n",
      "None\n",
      "None\n",
      "<re.Match object; span=(0, 3), match='aei'>\n",
      "None\n",
      "<re.Match object; span=(0, 3), match='aei'>\n",
      "None\n",
      "<re.Match object; span=(3, 6), match='aei'>\n",
      "None\n",
      "<re.Match object; span=(0, 22), match='srinvias1234@gmail.com'>\n"
     ]
    }
   ],
   "source": [
    "print(re.match(\".*\",\"Hello\"))\n",
    "\n",
    "print(re.match(\".\",\"1Hello\"))\n",
    "\n",
    "print(re.match(\"...\",\"1Hello\"))\n",
    "\n",
    "print(re.match(\"He?llo\",\"Heello\"))\n",
    "\n",
    "print(re.match(\"He?llo\",\"Hllo\"))\n",
    "\n",
    "print(re.match(\"He?ll?o\",\"Helllo\"))#Hello Hllo Helo Hlo\n",
    "\n",
    "print(re.match(\"He+llo\",\"Heeeeello\")) #Hello Heeeeeello\n",
    "\n",
    "print(re.match(\"He*llo\",\"Heeeello\"))\n",
    "\n",
    "print(re.match(\"[aeiou]\",\"ei123ABCxyZ\"))\n",
    "\n",
    "print(re.match(\"[aeiou]+\",\"aei123ABCxyZ\"))\n",
    "\n",
    "print(re.match(\"[aeiou]?\",\"1aaei123ABCxyZ\"))\n",
    "\n",
    "print(re.match(\"[ae]*\",\"aei123ABCxyZ\"))\n",
    "\n",
    "print(re.match(\"[a-z]+\",\"aeizZ123ABCxyZ\")) #aeiz\n",
    "\n",
    "print(re.match(\"[a-z A-Z]+\",\"aeizZ123ABCxyZ\")) #aeizZ\n",
    "\n",
    "print(re.match(\"[A-Z a-z]+\",\"aeizZ123ABCxyZ\")) #None Z \n",
    "\n",
    "print(re.match(\"[A-Z a-z]\",\"aeizZ123ABCxyZ\")) #None Z \n",
    "\n",
    "print(re.match(\"[0-9]+\",\"aeizZ123ABCxyZ\"))\n",
    "\n",
    "print(re.match(\"[0-37]+\",\"22aeizZ123ABC4567xyZ\"))\n",
    "\n",
    "print(re.match(\"[^a-z]\",\"aeizZ123ABCxyZ\")) #a aie\n",
    "\n",
    "print(re.search(\"[^a-z]+\",\"aeizz123ABCxyZ\"))\n",
    "\n",
    "print(re.match(\"[^a-z]+\",\"a\"))\n",
    "\n",
    "print(re.match(\"[a-z]{6}\",\"aeizz123ABCxyZ\"))\n",
    "\n",
    "print(re.match(\"[a-z]{3,5}\",\"aeiZzz123ABCxyZ\"))\n",
    "\n",
    "print(re.match(\"[a-z]{3,5}\",\"ae\"))\n",
    "\n",
    "print(re.match(\"(ae)?i\",\"aei1zz123ABCxyZ\"))\n",
    "\n",
    "print(re.match(\"aei$\",\"raei\"))\n",
    "\n",
    "print(re.search(\"aei$\",\"abcaei\"))\n",
    "\n",
    "print(re.search(\"aei$\",\"abcaeibca\"))\n",
    "\n",
    "print(re.match(\"[a-z 0-9]+@[a-z]+\\.[a-z]{2,3}\",\"srinvias1234@gmail.com\"))"
   ]
  },
  {
   "cell_type": "code",
   "execution_count": null,
   "metadata": {},
   "outputs": [],
   "source": []
  }
 ],
 "metadata": {
  "kernelspec": {
   "display_name": "Python 3",
   "language": "python",
   "name": "python3"
  },
  "language_info": {
   "codemirror_mode": {
    "name": "ipython",
    "version": 3
   },
   "file_extension": ".py",
   "mimetype": "text/x-python",
   "name": "python",
   "nbconvert_exporter": "python",
   "pygments_lexer": "ipython3",
   "version": "3.8.5"
  }
 },
 "nbformat": 4,
 "nbformat_minor": 4
}
