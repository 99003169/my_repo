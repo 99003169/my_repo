{
 "cells": [
  {
   "cell_type": "code",
   "execution_count": 10,
   "metadata": {},
   "outputs": [
    {
     "name": "stdout",
     "output_type": "stream",
     "text": [
      "Enter Email ID; meghanniegeorge98@gmail.com\n",
      "Email verified!\n"
     ]
    }
   ],
   "source": [
    "# Email authentication\n",
    "\n",
    "import re\n",
    "email = input(\"Enter Email ID; \")\n",
    "if re.match(\"[a-z 0-9]+@[a-z]+\\.[a-z]{2,3}\",email):\n",
    "    print(\"Email verified!\")\n",
    "else:\n",
    "    print(\"Invalid Email!\")"
   ]
  },
  {
   "cell_type": "code",
   "execution_count": 11,
   "metadata": {},
   "outputs": [
    {
     "name": "stdout",
     "output_type": "stream",
     "text": [
      "Enter toll free number: 1800-333-1800\n",
      "Verified!\n"
     ]
    }
   ],
   "source": [
    "# Toll free number authentication\n",
    "\n",
    "import re\n",
    "number = input(\"Enter toll free number: \")\n",
    "pattern = r'\\d{4}[\\s -]\\d{2,3}[\\s -]\\d{4}'\n",
    "if re.match(pattern, number):\n",
    "    print(\"Verified!\")\n",
    "else:\n",
    "    print(\"Invalid input!\")"
   ]
  },
  {
   "cell_type": "code",
   "execution_count": 15,
   "metadata": {},
   "outputs": [
    {
     "name": "stdout",
     "output_type": "stream",
     "text": [
      "Enter date: 01-05-2020\n",
      "Date verified! Date is 01-05-2020\n"
     ]
    }
   ],
   "source": [
    "# Date authentication\n",
    "\n",
    "import re\n",
    "date = input(\"Enter date: \")\n",
    "pattern  = r'\\d{1,2}[- /]\\d{1,2}[- /]\\d{2,4}'\n",
    "if re.match(pattern, date):\n",
    "    print(\"Date verified! Date is\", date)\n",
    "else:\n",
    "    print(\"Date invalid!\")"
   ]
  },
  {
   "cell_type": "code",
   "execution_count": 9,
   "metadata": {},
   "outputs": [
    {
     "name": "stdout",
     "output_type": "stream",
     "text": [
      "['I', 'am', 'Megha', 'Annie', 'George']\n"
     ]
    }
   ],
   "source": [
    "# Splitting words\n",
    "\n",
    "import re\n",
    "lists = re.split(r'\\s', \"I am Megha Annie George\")\n",
    "print(lists)"
   ]
  },
  {
   "cell_type": "code",
   "execution_count": null,
   "metadata": {},
   "outputs": [],
   "source": []
  },
  {
   "cell_type": "code",
   "execution_count": null,
   "metadata": {},
   "outputs": [],
   "source": []
  }
 ],
 "metadata": {
  "kernelspec": {
   "display_name": "Python 3",
   "language": "python",
   "name": "python3"
  },
  "language_info": {
   "codemirror_mode": {
    "name": "ipython",
    "version": 3
   },
   "file_extension": ".py",
   "mimetype": "text/x-python",
   "name": "python",
   "nbconvert_exporter": "python",
   "pygments_lexer": "ipython3",
   "version": "3.8.5"
  }
 },
 "nbformat": 4,
 "nbformat_minor": 4
}
