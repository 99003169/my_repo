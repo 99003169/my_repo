{
 "cells": [
  {
   "cell_type": "code",
   "execution_count": 59,
   "metadata": {},
   "outputs": [
    {
     "name": "stdout",
     "output_type": "stream",
     "text": [
      "Welcome to Random Password Generator!\n",
      "\n",
      "The password strength is as follows:\n",
      "\n",
      "Weak\t\t:\t4 - 7 Characters\n",
      "Moderate\t:\t8 - 11 Characters\n",
      "Strong\t\t:\t12+ Characters\n",
      "\n",
      "Note : Minimum password length should be 4\n",
      "\n",
      "\n",
      "Generated password:  0=EF/vytX|bFQ\n",
      "Password Strength:  Strong\n",
      "\n",
      "Generated password:  X@0pP\"yA\n",
      "Password Strength:  Moderate\n",
      "\n",
      "Generated password:  9uQ-\n",
      "Password Strength:  Weak\n",
      "\n",
      "Generated password:  5]eaAos3G\"j\n",
      "Password Strength:  Moderate\n",
      "\n",
      "Generated password:  Z]4l%\n",
      "Password Strength:  Weak\n"
     ]
    }
   ],
   "source": [
    "import random\n",
    "import string\n",
    "\n",
    "\n",
    "class input_output_file_handling:\n",
    "    object1 = password_generator()\n",
    "    \n",
    "    \n",
    "    def read_write_file(self):\n",
    "        fr = open(\"input.txt\", \"r\")\n",
    "        fw = open(\"output.txt\", \"a\")\n",
    "        for each_line in fr:\n",
    "            length = int(each_line)\n",
    "            object1.get_length(length)\n",
    "            object1.generate_password()\n",
    "            object1.calc_strength()\n",
    "            fw.write(object1.generated_password + '     :     ' + object1.password_strength + '\\n')\n",
    "        fr.close()\n",
    "        fw.close()\n",
    "\n",
    "        \n",
    "class password_generator:\n",
    "    \n",
    "    \n",
    "    def __init__(self):\n",
    "        self.password_length = 0\n",
    "        self.password_strength = \"weak\"\n",
    "        self.generated_password = \"\"\n",
    "    \n",
    "    \n",
    "    def get_length(self, length):\n",
    "        self.password_length = length\n",
    "    \n",
    "    \n",
    "    def calc_strength(self):\n",
    "        if (self.password_length >=4 and self.password_length <= 7):\n",
    "            self.password_strength = \"Weak\"\n",
    "        elif (self.password_length >=8 and self.password_length <= 11):\n",
    "            self.password_strength = \"Moderate\"\n",
    "        else:\n",
    "            self.password_strength = \"Strong\"\n",
    "        print(\"Password Strength: \", self.password_strength)\n",
    "\n",
    "        \n",
    "    def generate_password(self):\n",
    "        self.generated_password = random.choice(string.ascii_uppercase) \n",
    "        self.generated_password = self.generated_password + random.choice(string.ascii_lowercase)\n",
    "        self.generated_password = self.generated_password + random.choice(string.digits) \n",
    "        self.generated_password = self.generated_password + random.choice(string.punctuation)\n",
    "        for a in range(self.password_length - 4):\n",
    "            self.generated_password = self.generated_password + random.choice(string.ascii_uppercase + string.ascii_lowercase + string.digits + string.punctuation)\n",
    "        password_list = list(self.generated_password)\n",
    "        random.shuffle(password_list)\n",
    "        self.generated_password = ''.join(password_list)\n",
    "        print(\"\\nGenerated password: \", self.generated_password)\n",
    "\n",
    "      \n",
    "print(\"Welcome to Random Password Generator!\")\n",
    "print(\"\\nThe password strength is as follows:\")\n",
    "print(\"\\nWeak\\t\\t:\\t4 - 7 Characters\")\n",
    "print(\"Moderate\\t:\\t8 - 11 Characters\")\n",
    "print(\"Strong\\t\\t:\\t12+ Characters\")\n",
    "print(\"\\nNote : Minimum password length should be 4\\n\")\n",
    "in_out_obj = input_output_file_handling()\n",
    "in_out_obj.read_write_file()"
   ]
  },
  {
   "cell_type": "code",
   "execution_count": null,
   "metadata": {},
   "outputs": [],
   "source": []
  },
  {
   "cell_type": "code",
   "execution_count": null,
   "metadata": {},
   "outputs": [],
   "source": []
  },
  {
   "cell_type": "code",
   "execution_count": null,
   "metadata": {},
   "outputs": [],
   "source": []
  },
  {
   "cell_type": "code",
   "execution_count": null,
   "metadata": {},
   "outputs": [],
   "source": []
  }
 ],
 "metadata": {
  "kernelspec": {
   "display_name": "Python 3",
   "language": "python",
   "name": "python3"
  },
  "language_info": {
   "codemirror_mode": {
    "name": "ipython",
    "version": 3
   },
   "file_extension": ".py",
   "mimetype": "text/x-python",
   "name": "python",
   "nbconvert_exporter": "python",
   "pygments_lexer": "ipython3",
   "version": "3.8.5"
  }
 },
 "nbformat": 4,
 "nbformat_minor": 4
}
