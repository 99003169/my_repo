{
 "cells": [
  {
   "cell_type": "code",
   "execution_count": null,
   "metadata": {},
   "outputs": [],
   "source": [
    "#tcp server\n",
    "\n",
    "import socket\n",
    "import os\n",
    "import time\n",
    "\n",
    "addr = (\"127.0.0.1\", 1520)  #tuple\n",
    "\n",
    "mysock = socket.socket(socket.AF_INET, socket.SOCK_STREAM)\n",
    "mysock.bind(addr)\n",
    "mysock.listen()               #listening mode\n",
    "\n",
    "time.sleep(10) \n",
    "\n",
    "(clisock,addr) = mysock.accept()\n",
    "print(\"got a client conn from \", addr)\n",
    "#for testing, telnet 127.0.0.1.1500\n",
    "\n",
    "\n",
    "data = clisock.recv(64)\n",
    "print(\"client sent:\", data.decode('utf-8'))\n",
    "\n",
    "mystr = \"thank you\"\n",
    "clisock.sendall(mystr.encode('utf-8'))\n",
    "\n",
    "time.sleep(10) \n",
    "\n",
    "clisock.close()\n",
    "mysock.close()"
   ]
  },
  {
   "cell_type": "code",
   "execution_count": null,
   "metadata": {},
   "outputs": [],
   "source": [
    "#tcp client \n",
    "\n",
    "import socket\n",
    "import os\n",
    "\n",
    "sock = socket.socket(socket.AF_INET, socket.SOCK_STREAM)\n",
    "servaddr = (\"127.0.0.1\", 1520)\n",
    "sock.connect(servaddr)\n",
    "\n",
    "# sock.recv, sock.send\n",
    "\n",
    "mystr = \"hello tcp server\"\n",
    "sock.sendall(mystr.encode('utf-8'))\n",
    "\n",
    "data = sock.recv(64)\n",
    "print(\"client sent:\", data.decode('utf-8'))\n",
    "\n",
    "\n",
    "\n",
    "sock.close()"
   ]
  },
  {
   "cell_type": "code",
   "execution_count": null,
   "metadata": {},
   "outputs": [],
   "source": []
  }
 ],
 "metadata": {
  "kernelspec": {
   "display_name": "Python 3",
   "language": "python",
   "name": "python3"
  },
  "language_info": {
   "codemirror_mode": {
    "name": "ipython",
    "version": 3
   },
   "file_extension": ".py",
   "mimetype": "text/x-python",
   "name": "python",
   "nbconvert_exporter": "python",
   "pygments_lexer": "ipython3",
   "version": "3.8.5"
  }
 },
 "nbformat": 4,
 "nbformat_minor": 4
}
